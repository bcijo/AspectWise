{
 "cells": [
  {
   "cell_type": "code",
   "execution_count": 1,
   "metadata": {
    "id": "fPTAV0DMpikO"
   },
   "outputs": [],
   "source": [
    "import numpy as np\n",
    "import pandas as pd\n",
    "import tensorflow as tf"
   ]
  },
  {
   "cell_type": "code",
   "execution_count": 3,
   "metadata": {
    "colab": {
     "base_uri": "https://localhost:8080/"
    },
    "id": "AFgJoWXcqrm8",
    "outputId": "7a5645c6-86d1-48b7-d025-6810d08482e2"
   },
   "outputs": [
    {
     "name": "stdout",
     "output_type": "stream",
     "text": [
      "Mounted at /content/drive\n"
     ]
    }
   ],
   "source": [
    "# from google.colab import drive\n",
    "# drive.mount('/content/drive')"
   ]
  },
  {
   "cell_type": "code",
   "execution_count": 2,
   "metadata": {
    "colab": {
     "base_uri": "https://localhost:8080/"
    },
    "id": "wty7Kzg2uyH1",
    "outputId": "f91d5840-8cf9-4105-d239-dcd18b6224ce"
   },
   "outputs": [
    {
     "name": "stdout",
     "output_type": "stream",
     "text": [
      "Requirement already satisfied: transformers in c:\\users\\abhin\\anaconda3\\lib\\site-packages (4.24.0)\n",
      "Requirement already satisfied: filelock in c:\\users\\abhin\\anaconda3\\lib\\site-packages (from transformers) (3.9.0)\n",
      "Requirement already satisfied: numpy>=1.17 in c:\\users\\abhin\\anaconda3\\lib\\site-packages (from transformers) (1.23.5)\n",
      "Requirement already satisfied: tokenizers!=0.11.3,<0.14,>=0.11.1 in c:\\users\\abhin\\anaconda3\\lib\\site-packages (from transformers) (0.11.4)\n",
      "Requirement already satisfied: regex!=2019.12.17 in c:\\users\\abhin\\anaconda3\\lib\\site-packages (from transformers) (2022.7.9)\n",
      "Requirement already satisfied: pyyaml>=5.1 in c:\\users\\abhin\\anaconda3\\lib\\site-packages (from transformers) (6.0)\n",
      "Requirement already satisfied: requests in c:\\users\\abhin\\anaconda3\\lib\\site-packages (from transformers) (2.28.1)\n",
      "Requirement already satisfied: huggingface-hub<1.0,>=0.10.0 in c:\\users\\abhin\\anaconda3\\lib\\site-packages (from transformers) (0.10.1)\n",
      "Requirement already satisfied: packaging>=20.0 in c:\\users\\abhin\\anaconda3\\lib\\site-packages (from transformers) (22.0)\n",
      "Requirement already satisfied: tqdm>=4.27 in c:\\users\\abhin\\anaconda3\\lib\\site-packages (from transformers) (4.64.1)\n",
      "Requirement already satisfied: typing-extensions>=3.7.4.3 in c:\\users\\abhin\\anaconda3\\lib\\site-packages (from huggingface-hub<1.0,>=0.10.0->transformers) (4.4.0)\n",
      "Requirement already satisfied: colorama in c:\\users\\abhin\\anaconda3\\lib\\site-packages (from tqdm>=4.27->transformers) (0.4.6)\n",
      "Requirement already satisfied: idna<4,>=2.5 in c:\\users\\abhin\\anaconda3\\lib\\site-packages (from requests->transformers) (3.4)\n",
      "Requirement already satisfied: charset-normalizer<3,>=2 in c:\\users\\abhin\\anaconda3\\lib\\site-packages (from requests->transformers) (2.0.4)\n",
      "Requirement already satisfied: urllib3<1.27,>=1.21.1 in c:\\users\\abhin\\anaconda3\\lib\\site-packages (from requests->transformers) (1.26.14)\n",
      "Requirement already satisfied: certifi>=2017.4.17 in c:\\users\\abhin\\anaconda3\\lib\\site-packages (from requests->transformers) (2022.12.7)\n"
     ]
    }
   ],
   "source": [
    "!pip install transformers"
   ]
  },
  {
   "cell_type": "code",
   "execution_count": 3,
   "metadata": {
    "id": "U9MEFPEJuiis"
   },
   "outputs": [],
   "source": [
    "from transformers import TFDistilBertForSequenceClassification, DistilBertTokenizerFast"
   ]
  },
  {
   "cell_type": "code",
   "execution_count": 5,
   "metadata": {
    "colab": {
     "base_uri": "https://localhost:8080/"
    },
    "id": "nQA6748DrDGe",
    "outputId": "11368c1f-379b-416a-fc0f-34e6c71d9ed2"
   },
   "outputs": [
    {
     "name": "stderr",
     "output_type": "stream",
     "text": [
      "Some layers from the model checkpoint at D:\\abhin\\Comding\\ML\\AspectWise\\Combined model-full\\combined_model_full_saved were not used when initializing TFDistilBertForSequenceClassification: ['dropout_39']\n",
      "- This IS expected if you are initializing TFDistilBertForSequenceClassification from the checkpoint of a model trained on another task or with another architecture (e.g. initializing a BertForSequenceClassification model from a BertForPreTraining model).\n",
      "- This IS NOT expected if you are initializing TFDistilBertForSequenceClassification from the checkpoint of a model that you expect to be exactly identical (initializing a BertForSequenceClassification model from a BertForSequenceClassification model).\n",
      "Some layers of TFDistilBertForSequenceClassification were not initialized from the model checkpoint at D:\\abhin\\Comding\\ML\\AspectWise\\Combined model-full\\combined_model_full_saved and are newly initialized: ['dropout_19']\n",
      "You should probably TRAIN this model on a down-stream task to be able to use it for predictions and inference.\n"
     ]
    }
   ],
   "source": [
    "save_directory = r\"D:\\abhin\\Comding\\ML\\AspectWise\\Combined model-full\\combined_model_full_saved\"\n",
    "tokenizer_fine_tuned = DistilBertTokenizerFast.from_pretrained(save_directory)\n",
    "model_fine_tuned = TFDistilBertForSequenceClassification.from_pretrained(save_directory)"
   ]
  },
  {
   "cell_type": "markdown",
   "metadata": {},
   "source": [
    "### Function that gives out Ratings"
   ]
  },
  {
   "cell_type": "code",
   "execution_count": 92,
   "metadata": {
    "id": "c1-sphHl1sfe"
   },
   "outputs": [],
   "source": [
    "def get_ratings(texts, y, i, j):\n",
    "    resp_token = tokenizer_fine_tuned(texts, truncation=True, padding=True, return_tensors = 'tf')\n",
    "    custom_test = tf.data.Dataset.from_tensor_slices((dict(resp_token), y))\n",
    "    preds = model_fine_tuned.predict(custom_test).logits\n",
    "    rating_score = 0\n",
    "    l = len(y)\n",
    "    for pred in preds:\n",
    "        rating_score += (pred[j] - pred[i])\n",
    "    rating_score /= l\n",
    "    return rating_score"
   ]
  },
  {
   "cell_type": "markdown",
   "metadata": {},
   "source": [
    "### Sony Ratings"
   ]
  },
  {
   "cell_type": "code",
   "execution_count": 93,
   "metadata": {},
   "outputs": [],
   "source": [
    "sony_df = pd.read_csv('Headphone_dataset/Sony.csv')"
   ]
  },
  {
   "cell_type": "code",
   "execution_count": 94,
   "metadata": {},
   "outputs": [],
   "source": [
    "sony_df.dropna(inplace=True)"
   ]
  },
  {
   "cell_type": "code",
   "execution_count": 95,
   "metadata": {},
   "outputs": [],
   "source": [
    "Sony_ratings = {}"
   ]
  },
  {
   "cell_type": "code",
   "execution_count": 96,
   "metadata": {
    "id": "FR8w44B13NGb"
   },
   "outputs": [
    {
     "name": "stdout",
     "output_type": "stream",
     "text": [
      "236/236 [==============================] - 2s 10ms/step\n"
     ]
    }
   ],
   "source": [
    "sony_audio_df = sony_df[(sony_df['Sentiment'] == 6) | (sony_df[\"Sentiment\"] == 7)]\n",
    "sony_audio_ratings = get_ratings(sony_audio_df['Reviews'].tolist(), sony_audio_df['Sentiment'].tolist(), 7, 6)\n",
    "Sony_ratings['audio'] = sony_audio_ratings"
   ]
  },
  {
   "cell_type": "code",
   "execution_count": 97,
   "metadata": {},
   "outputs": [
    {
     "name": "stdout",
     "output_type": "stream",
     "text": [
      "208/208 [==============================] - 4s 19ms/step\n"
     ]
    }
   ],
   "source": [
    "sony_build_df = sony_df[(sony_df['Sentiment'] == 8) | (sony_df[\"Sentiment\"] == 9)]\n",
    "sony_build_ratings = get_ratings(sony_build_df['Reviews'].tolist(), sony_build_df['Sentiment'].tolist(), 8, 9)\n",
    "Sony_ratings['build'] = sony_build_ratings"
   ]
  },
  {
   "cell_type": "code",
   "execution_count": 98,
   "metadata": {},
   "outputs": [
    {
     "name": "stdout",
     "output_type": "stream",
     "text": [
      "224/224 [==============================] - 6s 25ms/step\n"
     ]
    }
   ],
   "source": [
    "sony_price_df = sony_df[(sony_df['Sentiment'] == 10) | (sony_df[\"Sentiment\"] == 11)]\n",
    "sony_price_ratings = get_ratings(sony_price_df['Reviews'].tolist(), sony_price_df['Sentiment'].tolist(), 10, 11)\n",
    "Sony_ratings['price'] = sony_price_ratings"
   ]
  },
  {
   "cell_type": "code",
   "execution_count": 99,
   "metadata": {},
   "outputs": [
    {
     "data": {
      "text/plain": [
       "{'audio': 2.313496726044154,\n",
       " 'build': -0.32487670045632583,\n",
       " 'price': 0.44484699623925344}"
      ]
     },
     "execution_count": 99,
     "metadata": {},
     "output_type": "execute_result"
    }
   ],
   "source": [
    "Sony_ratings"
   ]
  },
  {
   "cell_type": "markdown",
   "metadata": {},
   "source": [
    "### Bose Ratings"
   ]
  },
  {
   "cell_type": "code",
   "execution_count": 100,
   "metadata": {},
   "outputs": [],
   "source": [
    "bose_df = pd.read_csv('Headphone_dataset/Bose.csv')"
   ]
  },
  {
   "cell_type": "code",
   "execution_count": 101,
   "metadata": {},
   "outputs": [],
   "source": [
    "bose_df.dropna(inplace=True)"
   ]
  },
  {
   "cell_type": "code",
   "execution_count": 102,
   "metadata": {},
   "outputs": [],
   "source": [
    "Bose_ratings = {}"
   ]
  },
  {
   "cell_type": "code",
   "execution_count": 103,
   "metadata": {},
   "outputs": [
    {
     "name": "stdout",
     "output_type": "stream",
     "text": [
      "154/154 [==============================] - 3s 23ms/step\n"
     ]
    }
   ],
   "source": [
    "bose_audio_df = bose_df[(bose_df['Sentiment'] == 0) | (bose_df[\"Sentiment\"] == 1)]\n",
    "bose_audio_ratings = get_ratings(bose_audio_df['Reviews'].tolist(), bose_audio_df['Sentiment'].tolist(), 0, 1)\n",
    "Bose_ratings['audio'] = bose_audio_ratings"
   ]
  },
  {
   "cell_type": "code",
   "execution_count": 104,
   "metadata": {},
   "outputs": [
    {
     "name": "stdout",
     "output_type": "stream",
     "text": [
      "177/177 [==============================] - 4s 22ms/step\n"
     ]
    }
   ],
   "source": [
    "bose_build_df = bose_df[(bose_df['Sentiment'] == 2) | (bose_df[\"Sentiment\"] == 3)]\n",
    "bose_build_ratings = get_ratings(bose_build_df['Reviews'].tolist(), bose_build_df['Sentiment'].tolist(), 2, 3)\n",
    "Bose_ratings['build'] = bose_build_ratings"
   ]
  },
  {
   "cell_type": "code",
   "execution_count": 105,
   "metadata": {},
   "outputs": [
    {
     "name": "stdout",
     "output_type": "stream",
     "text": [
      "210/210 [==============================] - 5s 22ms/step\n"
     ]
    }
   ],
   "source": [
    "bose_price_df = bose_df[(bose_df['Sentiment'] == 4) | (bose_df[\"Sentiment\"] == 5)]\n",
    "bose_price_ratings = get_ratings(bose_price_df['Reviews'].tolist(), bose_price_df['Sentiment'].tolist(), 4, 5)\n",
    "Bose_ratings['price'] = bose_price_ratings"
   ]
  },
  {
   "cell_type": "code",
   "execution_count": 106,
   "metadata": {},
   "outputs": [
    {
     "data": {
      "text/plain": [
       "{'audio': 1.899477267033094,\n",
       " 'build': -1.1481827867906647,\n",
       " 'price': 1.950780949706123}"
      ]
     },
     "execution_count": 106,
     "metadata": {},
     "output_type": "execute_result"
    }
   ],
   "source": [
    "Bose_ratings"
   ]
  },
  {
   "cell_type": "markdown",
   "metadata": {},
   "source": [
    "### JBL Ratings"
   ]
  },
  {
   "cell_type": "code",
   "execution_count": 107,
   "metadata": {},
   "outputs": [],
   "source": [
    "jbl_df = pd.read_csv('Headphone_dataset/JBL.csv')"
   ]
  },
  {
   "cell_type": "code",
   "execution_count": 108,
   "metadata": {},
   "outputs": [],
   "source": [
    "jbl_df.dropna(inplace=True)"
   ]
  },
  {
   "cell_type": "code",
   "execution_count": 109,
   "metadata": {},
   "outputs": [],
   "source": [
    "JBL_ratings = {}"
   ]
  },
  {
   "cell_type": "code",
   "execution_count": 110,
   "metadata": {},
   "outputs": [
    {
     "name": "stdout",
     "output_type": "stream",
     "text": [
      "262/262 [==============================] - 6s 24ms/step\n"
     ]
    }
   ],
   "source": [
    "jbl_audio_df = jbl_df[(jbl_df['Sentiment'] == 12) | (jbl_df[\"Sentiment\"] == 13)]\n",
    "jbl_audio_ratings = get_ratings(jbl_audio_df['Reviews'].tolist(), jbl_audio_df['Sentiment'].tolist(), 12, 13)\n",
    "JBL_ratings['audio'] = jbl_audio_ratings"
   ]
  },
  {
   "cell_type": "code",
   "execution_count": 111,
   "metadata": {},
   "outputs": [
    {
     "name": "stdout",
     "output_type": "stream",
     "text": [
      "178/178 [==============================] - 4s 23ms/step\n"
     ]
    }
   ],
   "source": [
    "jbl_build_df = jbl_df[(jbl_df['Sentiment'] == 14) | (jbl_df[\"Sentiment\"] == 15)]\n",
    "jbl_build_ratings = get_ratings(jbl_build_df['Reviews'].tolist(), jbl_build_df['Sentiment'].tolist(), 14, 15)\n",
    "JBL_ratings['build'] = jbl_build_ratings"
   ]
  },
  {
   "cell_type": "code",
   "execution_count": 112,
   "metadata": {},
   "outputs": [
    {
     "name": "stdout",
     "output_type": "stream",
     "text": [
      "218/218 [==============================] - 5s 22ms/step\n"
     ]
    }
   ],
   "source": [
    "jbl_price_df = jbl_df[(jbl_df['Sentiment'] == 16) | (jbl_df[\"Sentiment\"] == 17)]\n",
    "jbl_price_ratings = get_ratings(jbl_price_df['Reviews'].tolist(), jbl_price_df['Sentiment'].tolist(), 16, 17)\n",
    "JBL_ratings['price'] = jbl_price_ratings"
   ]
  },
  {
   "cell_type": "code",
   "execution_count": 113,
   "metadata": {},
   "outputs": [
    {
     "data": {
      "text/plain": [
       "{'audio': 0.3183155100764209,\n",
       " 'build': 0.6265267612559072,\n",
       " 'price': 0.2904070736071385}"
      ]
     },
     "execution_count": 113,
     "metadata": {},
     "output_type": "execute_result"
    }
   ],
   "source": [
    "JBL_ratings"
   ]
  },
  {
   "cell_type": "markdown",
   "metadata": {},
   "source": [
    "### Ratings Table"
   ]
  },
  {
   "cell_type": "code",
   "execution_count": 114,
   "metadata": {},
   "outputs": [],
   "source": [
    "rating_table = pd.DataFrame(Sony_ratings, index=['Sony'])"
   ]
  },
  {
   "cell_type": "code",
   "execution_count": 115,
   "metadata": {},
   "outputs": [
    {
     "name": "stderr",
     "output_type": "stream",
     "text": [
      "C:\\Users\\abhin\\AppData\\Local\\Temp\\ipykernel_4492\\3801620075.py:1: FutureWarning: The frame.append method is deprecated and will be removed from pandas in a future version. Use pandas.concat instead.\n",
      "  rating_table = rating_table.append(pd.DataFrame(Bose_ratings, index=['Bose']))\n",
      "C:\\Users\\abhin\\AppData\\Local\\Temp\\ipykernel_4492\\3801620075.py:2: FutureWarning: The frame.append method is deprecated and will be removed from pandas in a future version. Use pandas.concat instead.\n",
      "  rating_table = rating_table.append(pd.DataFrame(JBL_ratings, index=['JBL']))\n"
     ]
    }
   ],
   "source": [
    "rating_table = rating_table.append(pd.DataFrame(Bose_ratings, index=['Bose']))\n",
    "rating_table = rating_table.append(pd.DataFrame(JBL_ratings, index=['JBL']))"
   ]
  },
  {
   "cell_type": "code",
   "execution_count": 116,
   "metadata": {},
   "outputs": [
    {
     "data": {
      "text/html": [
       "<div>\n",
       "<style scoped>\n",
       "    .dataframe tbody tr th:only-of-type {\n",
       "        vertical-align: middle;\n",
       "    }\n",
       "\n",
       "    .dataframe tbody tr th {\n",
       "        vertical-align: top;\n",
       "    }\n",
       "\n",
       "    .dataframe thead th {\n",
       "        text-align: right;\n",
       "    }\n",
       "</style>\n",
       "<table border=\"1\" class=\"dataframe\">\n",
       "  <thead>\n",
       "    <tr style=\"text-align: right;\">\n",
       "      <th></th>\n",
       "      <th>audio</th>\n",
       "      <th>build</th>\n",
       "      <th>price</th>\n",
       "    </tr>\n",
       "  </thead>\n",
       "  <tbody>\n",
       "    <tr>\n",
       "      <th>Sony</th>\n",
       "      <td>2.313497</td>\n",
       "      <td>-0.324877</td>\n",
       "      <td>0.444847</td>\n",
       "    </tr>\n",
       "    <tr>\n",
       "      <th>Bose</th>\n",
       "      <td>1.899477</td>\n",
       "      <td>-1.148183</td>\n",
       "      <td>1.950781</td>\n",
       "    </tr>\n",
       "    <tr>\n",
       "      <th>JBL</th>\n",
       "      <td>0.318316</td>\n",
       "      <td>0.626527</td>\n",
       "      <td>0.290407</td>\n",
       "    </tr>\n",
       "  </tbody>\n",
       "</table>\n",
       "</div>"
      ],
      "text/plain": [
       "         audio     build     price\n",
       "Sony  2.313497 -0.324877  0.444847\n",
       "Bose  1.899477 -1.148183  1.950781\n",
       "JBL   0.318316  0.626527  0.290407"
      ]
     },
     "execution_count": 116,
     "metadata": {},
     "output_type": "execute_result"
    }
   ],
   "source": [
    "rating_table"
   ]
  },
  {
   "cell_type": "code",
   "execution_count": 117,
   "metadata": {},
   "outputs": [],
   "source": [
    "rating_table.to_csv('Rating_Table.csv')"
   ]
  },
  {
   "cell_type": "code",
   "execution_count": null,
   "metadata": {},
   "outputs": [],
   "source": []
  }
 ],
 "metadata": {
  "accelerator": "GPU",
  "colab": {
   "gpuType": "T4",
   "provenance": []
  },
  "gpuClass": "standard",
  "kernelspec": {
   "display_name": "Python 3 (ipykernel)",
   "language": "python",
   "name": "python3"
  },
  "language_info": {
   "codemirror_mode": {
    "name": "ipython",
    "version": 3
   },
   "file_extension": ".py",
   "mimetype": "text/x-python",
   "name": "python",
   "nbconvert_exporter": "python",
   "pygments_lexer": "ipython3",
   "version": "3.10.9"
  }
 },
 "nbformat": 4,
 "nbformat_minor": 1
}
